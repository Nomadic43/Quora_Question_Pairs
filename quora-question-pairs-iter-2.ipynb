{
 "cells": [
  {
   "cell_type": "code",
   "execution_count": 1,
   "id": "59368b97",
   "metadata": {
    "_cell_guid": "b1076dfc-b9ad-4769-8c92-a6c4dae69d19",
    "_uuid": "8f2839f25d086af736a60e9eeb907d3b93b6e0e5",
    "execution": {
     "iopub.execute_input": "2024-09-02T16:42:27.627845Z",
     "iopub.status.busy": "2024-09-02T16:42:27.627294Z",
     "iopub.status.idle": "2024-09-02T16:42:28.045606Z",
     "shell.execute_reply": "2024-09-02T16:42:28.044514Z"
    },
    "papermill": {
     "duration": 0.427109,
     "end_time": "2024-09-02T16:42:28.048531",
     "exception": false,
     "start_time": "2024-09-02T16:42:27.621422",
     "status": "completed"
    },
    "tags": []
   },
   "outputs": [
    {
     "name": "stdout",
     "output_type": "stream",
     "text": [
      "/kaggle/input/quora-question-pairs/train.csv.zip\n",
      "/kaggle/input/quora-question-pairs/sample_submission.csv.zip\n",
      "/kaggle/input/quora-question-pairs/test.csv\n",
      "/kaggle/input/quora-question-pairs/test.csv.zip\n"
     ]
    }
   ],
   "source": [
    "# This Python 3 environment comes with many helpful analytics libraries installed\n",
    "# It is defined by the kaggle/python Docker image: https://github.com/kaggle/docker-python\n",
    "# For example, here's several helpful packages to load\n",
    "\n",
    "import numpy as np # linear algebra\n",
    "import pandas as pd # data processing, CSV file I/O (e.g. pd.read_csv)\n",
    "\n",
    "# Input data files are available in the read-only \"../input/\" directory\n",
    "# For example, running this (by clicking run or pressing Shift+Enter) will list all files under the input directory\n",
    "\n",
    "import os\n",
    "for dirname, _, filenames in os.walk('/kaggle/input'):\n",
    "    for filename in filenames:\n",
    "        print(os.path.join(dirname, filename))\n",
    "\n",
    "# You can write up to 20GB to the current directory (/kaggle/working/) that gets preserved as output when you create a version using \"Save & Run All\" \n",
    "# You can also write temporary files to /kaggle/temp/, but they won't be saved outside of the current session"
   ]
  },
  {
   "cell_type": "code",
   "execution_count": 2,
   "id": "82ae8170",
   "metadata": {
    "execution": {
     "iopub.execute_input": "2024-09-02T16:42:28.057907Z",
     "iopub.status.busy": "2024-09-02T16:42:28.057268Z",
     "iopub.status.idle": "2024-09-02T16:42:29.922201Z",
     "shell.execute_reply": "2024-09-02T16:42:29.921168Z"
    },
    "papermill": {
     "duration": 1.872262,
     "end_time": "2024-09-02T16:42:29.924670",
     "exception": false,
     "start_time": "2024-09-02T16:42:28.052408",
     "status": "completed"
    },
    "tags": []
   },
   "outputs": [],
   "source": [
    "import numpy as np\n",
    "import pandas as pd\n",
    "import matplotlib.pyplot as plt\n",
    "import seaborn as sns\n",
    "\n",
    "import warnings\n",
    "warnings.filterwarnings('ignore')"
   ]
  },
  {
   "cell_type": "code",
   "execution_count": 3,
   "id": "097ceb78",
   "metadata": {
    "execution": {
     "iopub.execute_input": "2024-09-02T16:42:29.933880Z",
     "iopub.status.busy": "2024-09-02T16:42:29.933310Z",
     "iopub.status.idle": "2024-09-02T16:42:32.010286Z",
     "shell.execute_reply": "2024-09-02T16:42:32.008982Z"
    },
    "papermill": {
     "duration": 2.084527,
     "end_time": "2024-09-02T16:42:32.012965",
     "exception": false,
     "start_time": "2024-09-02T16:42:29.928438",
     "status": "completed"
    },
    "tags": []
   },
   "outputs": [
    {
     "data": {
      "text/plain": [
       "(404290, 6)"
      ]
     },
     "execution_count": 3,
     "metadata": {},
     "output_type": "execute_result"
    }
   ],
   "source": [
    "df = pd.read_csv('/kaggle/input/quora-question-pairs/train.csv.zip')\n",
    "df.shape"
   ]
  },
  {
   "cell_type": "code",
   "execution_count": 4,
   "id": "ecb03fa6",
   "metadata": {
    "execution": {
     "iopub.execute_input": "2024-09-02T16:42:32.022461Z",
     "iopub.status.busy": "2024-09-02T16:42:32.021997Z",
     "iopub.status.idle": "2024-09-02T16:42:32.059125Z",
     "shell.execute_reply": "2024-09-02T16:42:32.058200Z"
    },
    "papermill": {
     "duration": 0.044826,
     "end_time": "2024-09-02T16:42:32.061611",
     "exception": false,
     "start_time": "2024-09-02T16:42:32.016785",
     "status": "completed"
    },
    "tags": []
   },
   "outputs": [],
   "source": [
    "new_df = df.sample(50000,random_state =2)"
   ]
  },
  {
   "cell_type": "code",
   "execution_count": 5,
   "id": "28880486",
   "metadata": {
    "execution": {
     "iopub.execute_input": "2024-09-02T16:42:32.070833Z",
     "iopub.status.busy": "2024-09-02T16:42:32.070448Z",
     "iopub.status.idle": "2024-09-02T16:42:32.100986Z",
     "shell.execute_reply": "2024-09-02T16:42:32.099744Z"
    },
    "papermill": {
     "duration": 0.038054,
     "end_time": "2024-09-02T16:42:32.103472",
     "exception": false,
     "start_time": "2024-09-02T16:42:32.065418",
     "status": "completed"
    },
    "tags": []
   },
   "outputs": [
    {
     "data": {
      "text/plain": [
       "id              0\n",
       "qid1            0\n",
       "qid2            0\n",
       "question1       0\n",
       "question2       0\n",
       "is_duplicate    0\n",
       "dtype: int64"
      ]
     },
     "execution_count": 5,
     "metadata": {},
     "output_type": "execute_result"
    }
   ],
   "source": [
    "new_df.isnull().sum()"
   ]
  },
  {
   "cell_type": "code",
   "execution_count": 6,
   "id": "12b5c8b5",
   "metadata": {
    "execution": {
     "iopub.execute_input": "2024-09-02T16:42:32.113172Z",
     "iopub.status.busy": "2024-09-02T16:42:32.112726Z",
     "iopub.status.idle": "2024-09-02T16:42:32.387700Z",
     "shell.execute_reply": "2024-09-02T16:42:32.386501Z"
    },
    "papermill": {
     "duration": 0.282619,
     "end_time": "2024-09-02T16:42:32.390215",
     "exception": false,
     "start_time": "2024-09-02T16:42:32.107596",
     "status": "completed"
    },
    "tags": []
   },
   "outputs": [
    {
     "name": "stdout",
     "output_type": "stream",
     "text": [
      "is_duplicate\n",
      "0    31601\n",
      "1    18399\n",
      "Name: count, dtype: int64\n",
      "is_duplicate\n",
      "0    63.202\n",
      "1    36.798\n",
      "Name: count, dtype: float64\n"
     ]
    },
    {
     "data": {
      "text/plain": [
       "<Axes: xlabel='is_duplicate'>"
      ]
     },
     "execution_count": 6,
     "metadata": {},
     "output_type": "execute_result"
    },
    {
     "data": {
      "image/png": "[encoded data removed]",
      "text/plain": [
       "<Figure size 640x480 with 1 Axes>"
      ]
     },
     "metadata": {},
     "output_type": "display_data"
    }
   ],
   "source": [
    "print(new_df['is_duplicate'].value_counts())\n",
    "print((new_df['is_duplicate'].value_counts()/new_df['is_duplicate'].count())*100)\n",
    "new_df['is_duplicate'].value_counts().plot(kind='bar')"
   ]
  },
  {
   "cell_type": "code",
   "execution_count": 7,
   "id": "4dc0838f",
   "metadata": {
    "execution": {
     "iopub.execute_input": "2024-09-02T16:42:32.400526Z",
     "iopub.status.busy": "2024-09-02T16:42:32.400130Z",
     "iopub.status.idle": "2024-09-02T16:42:32.455865Z",
     "shell.execute_reply": "2024-09-02T16:42:32.454561Z"
    },
    "papermill": {
     "duration": 0.063684,
     "end_time": "2024-09-02T16:42:32.458317",
     "exception": false,
     "start_time": "2024-09-02T16:42:32.394633",
     "status": "completed"
    },
    "tags": []
   },
   "outputs": [
    {
     "name": "stdout",
     "output_type": "stream",
     "text": [
      "Number of unique questions 88945\n",
      "Numberof questions getting repeated 7384\n"
     ]
    }
   ],
   "source": [
    "qid = pd.Series(new_df['qid1'].tolist()+new_df['qid2'].tolist())\n",
    "print('Number of unique questions',np.unique(qid).shape[0])\n",
    "x = qid.value_counts()>1\n",
    "print('Numberof questions getting repeated',x[x].shape[0])"
   ]
  },
  {
   "cell_type": "code",
   "execution_count": 8,
   "id": "a4e3e0ab",
   "metadata": {
    "execution": {
     "iopub.execute_input": "2024-09-02T16:42:32.468723Z",
     "iopub.status.busy": "2024-09-02T16:42:32.468328Z",
     "iopub.status.idle": "2024-09-02T16:42:33.284495Z",
     "shell.execute_reply": "2024-09-02T16:42:33.283083Z"
    },
    "papermill": {
     "duration": 0.824769,
     "end_time": "2024-09-02T16:42:33.287487",
     "exception": false,
     "start_time": "2024-09-02T16:42:32.462718",
     "status": "completed"
    },
    "tags": []
   },
   "outputs": [
    {
     "data": {
      "image/png": "[encoded data removed]",
      "text/plain": [
       "<Figure size 640x480 with 1 Axes>"
      ]
     },
     "metadata": {},
     "output_type": "display_data"
    }
   ],
   "source": [
    "plt.hist(qid.value_counts().values,bins=160)\n",
    "plt.yscale('log')\n",
    "plt.show()"
   ]
  },
  {
   "cell_type": "code",
   "execution_count": 9,
   "id": "8f753d51",
   "metadata": {
    "execution": {
     "iopub.execute_input": "2024-09-02T16:42:33.299617Z",
     "iopub.status.busy": "2024-09-02T16:42:33.299132Z",
     "iopub.status.idle": "2024-09-02T16:42:33.363748Z",
     "shell.execute_reply": "2024-09-02T16:42:33.362434Z"
    },
    "papermill": {
     "duration": 0.073404,
     "end_time": "2024-09-02T16:42:33.366535",
     "exception": false,
     "start_time": "2024-09-02T16:42:33.293131",
     "status": "completed"
    },
    "tags": []
   },
   "outputs": [],
   "source": [
    "new_df['q1_len'] = new_df['question1'].str.len()\n",
    "new_df['q2_len'] = new_df['question2'].str.len()"
   ]
  },
  {
   "cell_type": "code",
   "execution_count": 10,
   "id": "3a12ce05",
   "metadata": {
    "execution": {
     "iopub.execute_input": "2024-09-02T16:42:33.377902Z",
     "iopub.status.busy": "2024-09-02T16:42:33.377439Z",
     "iopub.status.idle": "2024-09-02T16:42:33.522304Z",
     "shell.execute_reply": "2024-09-02T16:42:33.521136Z"
    },
    "papermill": {
     "duration": 0.153627,
     "end_time": "2024-09-02T16:42:33.524915",
     "exception": false,
     "start_time": "2024-09-02T16:42:33.371288",
     "status": "completed"
    },
    "tags": []
   },
   "outputs": [],
   "source": [
    "new_df['q1_words'] = new_df['question1'].apply(lambda row: len(row.split(\" \")))\n",
    "new_df['q2_words'] = new_df['question2'].apply(lambda row: len(row.split(\" \")))"
   ]
  },
  {
   "cell_type": "code",
   "execution_count": null,
   "id": "5767a8ec",
   "metadata": {
    "papermill": {
     "duration": 0.004221,
     "end_time": "2024-09-02T16:42:33.533771",
     "exception": false,
     "start_time": "2024-09-02T16:42:33.529550",
     "status": "completed"
    },
    "tags": []
   },
   "outputs": [],
   "source": []
  }
 ],
 "metadata": {
  "kaggle": {
   "accelerator": "none",
   "dataSources": [
    {
     "databundleVersionId": 323734,
     "sourceId": 6277,
     "sourceType": "competition"
    }
   ],
   "dockerImageVersionId": 30761,
   "isGpuEnabled": false,
   "isInternetEnabled": true,
   "language": "python",
   "sourceType": "notebook"
  },
  "kernelspec": {
   "display_name": "Python 3",
   "language": "python",
   "name": "python3"
  },
  "language_info": {
   "codemirror_mode": {
    "name": "ipython",
    "version": 3
   },
   "file_extension": ".py",
   "mimetype": "text/x-python",
   "name": "python",
   "nbconvert_exporter": "python",
   "pygments_lexer": "ipython3",
   "version": "3.10.14"
  },
  "papermill": {
   "default_parameters": {},
   "duration": 9.572812,
   "end_time": "2024-09-02T16:42:34.260161",
   "environment_variables": {},
   "exception": null,
   "input_path": "__notebook__.ipynb",
   "output_path": "__notebook__.ipynb",
   "parameters": {},
   "start_time": "2024-09-02T16:42:24.687349",
   "version": "2.6.0"
  }
 },
 "nbformat": 4,
 "nbformat_minor": 5
}
