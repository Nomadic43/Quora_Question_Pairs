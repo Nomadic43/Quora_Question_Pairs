{
 "cells": [
  {
   "cell_type": "code",
   "execution_count": 1,
   "id": "5be73c13",
   "metadata": {
    "_cell_guid": "b1076dfc-b9ad-4769-8c92-a6c4dae69d19",
    "_uuid": "8f2839f25d086af736a60e9eeb907d3b93b6e0e5",
    "execution": {
     "iopub.execute_input": "2024-09-01T11:42:31.014030Z",
     "iopub.status.busy": "2024-09-01T11:42:31.012607Z",
     "iopub.status.idle": "2024-09-01T11:42:31.893822Z",
     "shell.execute_reply": "2024-09-01T11:42:31.892645Z"
    },
    "papermill": {
     "duration": 0.896846,
     "end_time": "2024-09-01T11:42:31.897254",
     "exception": false,
     "start_time": "2024-09-01T11:42:31.000408",
     "status": "completed"
    },
    "tags": []
   },
   "outputs": [
    {
     "name": "stdout",
     "output_type": "stream",
     "text": [
      "/kaggle/input/quora-question-pairs/train.csv.zip\n",
      "/kaggle/input/quora-question-pairs/sample_submission.csv.zip\n",
      "/kaggle/input/quora-question-pairs/test.csv\n",
      "/kaggle/input/quora-question-pairs/test.csv.zip\n",
      "/kaggle/input/quora-insincere-questions-classification/sample_submission.csv\n",
      "/kaggle/input/quora-insincere-questions-classification/embeddings.zip\n",
      "/kaggle/input/quora-insincere-questions-classification/train.csv\n",
      "/kaggle/input/quora-insincere-questions-classification/test.csv\n"
     ]
    }
   ],
   "source": [
    "# This Python 3 environment comes with many helpful analytics libraries installed\n",
    "# It is defined by the kaggle/python Docker image: https://github.com/kaggle/docker-python\n",
    "# For example, here's several helpful packages to load\n",
    "\n",
    "import numpy as np # linear algebra\n",
    "import pandas as pd # data processing, CSV file I/O (e.g. pd.read_csv)\n",
    "\n",
    "# Input data files are available in the read-only \"../input/\" directory\n",
    "# For example, running this (by clicking run or pressing Shift+Enter) will list all files under the input directory\n",
    "\n",
    "import os\n",
    "for dirname, _, filenames in os.walk('/kaggle/input'):\n",
    "    for filename in filenames:\n",
    "        print(os.path.join(dirname, filename))\n",
    "\n",
    "# You can write up to 20GB to the current directory (/kaggle/working/) that gets preserved as output when you create a version using \"Save & Run All\" \n",
    "# You can also write temporary files to /kaggle/temp/, but they won't be saved outside of the current session"
   ]
  },
  {
   "cell_type": "code",
   "execution_count": 2,
   "id": "53418b4c",
   "metadata": {
    "execution": {
     "iopub.execute_input": "2024-09-01T11:42:31.916273Z",
     "iopub.status.busy": "2024-09-01T11:42:31.914901Z",
     "iopub.status.idle": "2024-09-01T11:42:33.596704Z",
     "shell.execute_reply": "2024-09-01T11:42:33.595608Z"
    },
    "papermill": {
     "duration": 1.694246,
     "end_time": "2024-09-01T11:42:33.599872",
     "exception": false,
     "start_time": "2024-09-01T11:42:31.905626",
     "status": "completed"
    },
    "tags": []
   },
   "outputs": [],
   "source": [
    "import pandas as pd \n",
    "import numpy as np\n",
    "import matplotlib.pyplot as plt\n",
    "import seaborn as sns"
   ]
  },
  {
   "cell_type": "code",
   "execution_count": 3,
   "id": "9a100723",
   "metadata": {
    "execution": {
     "iopub.execute_input": "2024-09-01T11:42:33.617828Z",
     "iopub.status.busy": "2024-09-01T11:42:33.617287Z",
     "iopub.status.idle": "2024-09-01T11:42:36.117841Z",
     "shell.execute_reply": "2024-09-01T11:42:36.116351Z"
    },
    "papermill": {
     "duration": 2.512315,
     "end_time": "2024-09-01T11:42:36.120340",
     "exception": false,
     "start_time": "2024-09-01T11:42:33.608025",
     "status": "completed"
    },
    "tags": []
   },
   "outputs": [
    {
     "data": {
      "text/plain": [
       "(404290, 6)"
      ]
     },
     "execution_count": 3,
     "metadata": {},
     "output_type": "execute_result"
    }
   ],
   "source": [
    "df = pd.read_csv(\"/kaggle/input/quora-question-pairs/train.csv.zip\")\n",
    "df.shape"
   ]
  },
  {
   "cell_type": "code",
   "execution_count": 4,
   "id": "b5b2e7ee",
   "metadata": {
    "execution": {
     "iopub.execute_input": "2024-09-01T11:42:36.139534Z",
     "iopub.status.busy": "2024-09-01T11:42:36.138388Z",
     "iopub.status.idle": "2024-09-01T11:42:36.163938Z",
     "shell.execute_reply": "2024-09-01T11:42:36.162690Z"
    },
    "papermill": {
     "duration": 0.03795,
     "end_time": "2024-09-01T11:42:36.166376",
     "exception": false,
     "start_time": "2024-09-01T11:42:36.128426",
     "status": "completed"
    },
    "tags": []
   },
   "outputs": [
    {
     "data": {
      "text/html": [
       "<div>\n",
       "<style scoped>\n",
       "    .dataframe tbody tr th:only-of-type {\n",
       "        vertical-align: middle;\n",
       "    }\n",
       "\n",
       "    .dataframe tbody tr th {\n",
       "        vertical-align: top;\n",
       "    }\n",
       "\n",
       "    .dataframe thead th {\n",
       "        text-align: right;\n",
       "    }\n",
       "</style>\n",
       "<table border=\"1\" class=\"dataframe\">\n",
       "  <thead>\n",
       "    <tr style=\"text-align: right;\">\n",
       "      <th></th>\n",
       "      <th>id</th>\n",
       "      <th>qid1</th>\n",
       "      <th>qid2</th>\n",
       "      <th>question1</th>\n",
       "      <th>question2</th>\n",
       "      <th>is_duplicate</th>\n",
       "    </tr>\n",
       "  </thead>\n",
       "  <tbody>\n",
       "    <tr>\n",
       "      <th>0</th>\n",
       "      <td>0</td>\n",
       "      <td>1</td>\n",
       "      <td>2</td>\n",
       "      <td>What is the step by step guide to invest in sh...</td>\n",
       "      <td>What is the step by step guide to invest in sh...</td>\n",
       "      <td>0</td>\n",
       "    </tr>\n",
       "    <tr>\n",
       "      <th>1</th>\n",
       "      <td>1</td>\n",
       "      <td>3</td>\n",
       "      <td>4</td>\n",
       "      <td>What is the story of Kohinoor (Koh-i-Noor) Dia...</td>\n",
       "      <td>What would happen if the Indian government sto...</td>\n",
       "      <td>0</td>\n",
       "    </tr>\n",
       "    <tr>\n",
       "      <th>2</th>\n",
       "      <td>2</td>\n",
       "      <td>5</td>\n",
       "      <td>6</td>\n",
       "      <td>How can I increase the speed of my internet co...</td>\n",
       "      <td>How can Internet speed be increased by hacking...</td>\n",
       "      <td>0</td>\n",
       "    </tr>\n",
       "    <tr>\n",
       "      <th>3</th>\n",
       "      <td>3</td>\n",
       "      <td>7</td>\n",
       "      <td>8</td>\n",
       "      <td>Why am I mentally very lonely? How can I solve...</td>\n",
       "      <td>Find the remainder when [math]23^{24}[/math] i...</td>\n",
       "      <td>0</td>\n",
       "    </tr>\n",
       "    <tr>\n",
       "      <th>4</th>\n",
       "      <td>4</td>\n",
       "      <td>9</td>\n",
       "      <td>10</td>\n",
       "      <td>Which one dissolve in water quikly sugar, salt...</td>\n",
       "      <td>Which fish would survive in salt water?</td>\n",
       "      <td>0</td>\n",
       "    </tr>\n",
       "  </tbody>\n",
       "</table>\n",
       "</div>"
      ],
      "text/plain": [
       "   id  qid1  qid2                                          question1  \\\n",
       "0   0     1     2  What is the step by step guide to invest in sh...   \n",
       "1   1     3     4  What is the story of Kohinoor (Koh-i-Noor) Dia...   \n",
       "2   2     5     6  How can I increase the speed of my internet co...   \n",
       "3   3     7     8  Why am I mentally very lonely? How can I solve...   \n",
       "4   4     9    10  Which one dissolve in water quikly sugar, salt...   \n",
       "\n",
       "                                           question2  is_duplicate  \n",
       "0  What is the step by step guide to invest in sh...             0  \n",
       "1  What would happen if the Indian government sto...             0  \n",
       "2  How can Internet speed be increased by hacking...             0  \n",
       "3  Find the remainder when [math]23^{24}[/math] i...             0  \n",
       "4            Which fish would survive in salt water?             0  "
      ]
     },
     "execution_count": 4,
     "metadata": {},
     "output_type": "execute_result"
    }
   ],
   "source": [
    "df.head()"
   ]
  },
  {
   "cell_type": "code",
   "execution_count": 5,
   "id": "17f968e5",
   "metadata": {
    "execution": {
     "iopub.execute_input": "2024-09-01T11:42:36.185436Z",
     "iopub.status.busy": "2024-09-01T11:42:36.184155Z",
     "iopub.status.idle": "2024-09-01T11:42:36.324569Z",
     "shell.execute_reply": "2024-09-01T11:42:36.323220Z"
    },
    "papermill": {
     "duration": 0.15298,
     "end_time": "2024-09-01T11:42:36.327437",
     "exception": false,
     "start_time": "2024-09-01T11:42:36.174457",
     "status": "completed"
    },
    "tags": []
   },
   "outputs": [
    {
     "name": "stdout",
     "output_type": "stream",
     "text": [
      "<class 'pandas.core.frame.DataFrame'>\n",
      "RangeIndex: 404290 entries, 0 to 404289\n",
      "Data columns (total 6 columns):\n",
      " #   Column        Non-Null Count   Dtype \n",
      "---  ------        --------------   ----- \n",
      " 0   id            404290 non-null  int64 \n",
      " 1   qid1          404290 non-null  int64 \n",
      " 2   qid2          404290 non-null  int64 \n",
      " 3   question1     404289 non-null  object\n",
      " 4   question2     404288 non-null  object\n",
      " 5   is_duplicate  404290 non-null  int64 \n",
      "dtypes: int64(4), object(2)\n",
      "memory usage: 18.5+ MB\n"
     ]
    }
   ],
   "source": [
    "df.info()"
   ]
  },
  {
   "cell_type": "code",
   "execution_count": 6,
   "id": "0fe2595b",
   "metadata": {
    "execution": {
     "iopub.execute_input": "2024-09-01T11:42:36.346670Z",
     "iopub.status.busy": "2024-09-01T11:42:36.346209Z",
     "iopub.status.idle": "2024-09-01T11:42:36.456493Z",
     "shell.execute_reply": "2024-09-01T11:42:36.455273Z"
    },
    "papermill": {
     "duration": 0.123053,
     "end_time": "2024-09-01T11:42:36.459212",
     "exception": false,
     "start_time": "2024-09-01T11:42:36.336159",
     "status": "completed"
    },
    "tags": []
   },
   "outputs": [
    {
     "data": {
      "text/plain": [
       "id              0\n",
       "qid1            0\n",
       "qid2            0\n",
       "question1       1\n",
       "question2       2\n",
       "is_duplicate    0\n",
       "dtype: int64"
      ]
     },
     "execution_count": 6,
     "metadata": {},
     "output_type": "execute_result"
    }
   ],
   "source": [
    "df.isnull().sum()"
   ]
  },
  {
   "cell_type": "code",
   "execution_count": 7,
   "id": "d18ab69b",
   "metadata": {
    "execution": {
     "iopub.execute_input": "2024-09-01T11:42:36.478451Z",
     "iopub.status.busy": "2024-09-01T11:42:36.478036Z",
     "iopub.status.idle": "2024-09-01T11:42:37.000154Z",
     "shell.execute_reply": "2024-09-01T11:42:36.998897Z"
    },
    "papermill": {
     "duration": 0.5348,
     "end_time": "2024-09-01T11:42:37.002803",
     "exception": false,
     "start_time": "2024-09-01T11:42:36.468003",
     "status": "completed"
    },
    "tags": []
   },
   "outputs": [
    {
     "data": {
      "text/plain": [
       "0"
      ]
     },
     "execution_count": 7,
     "metadata": {},
     "output_type": "execute_result"
    }
   ],
   "source": [
    "df.duplicated().sum()"
   ]
  },
  {
   "cell_type": "code",
   "execution_count": 8,
   "id": "0facdb3e",
   "metadata": {
    "execution": {
     "iopub.execute_input": "2024-09-01T11:42:37.023041Z",
     "iopub.status.busy": "2024-09-01T11:42:37.022500Z",
     "iopub.status.idle": "2024-09-01T11:42:37.322758Z",
     "shell.execute_reply": "2024-09-01T11:42:37.321352Z"
    },
    "papermill": {
     "duration": 0.313276,
     "end_time": "2024-09-01T11:42:37.325426",
     "exception": false,
     "start_time": "2024-09-01T11:42:37.012150",
     "status": "completed"
    },
    "tags": []
   },
   "outputs": [
    {
     "name": "stdout",
     "output_type": "stream",
     "text": [
      "is_duplicate\n",
      "0    255027\n",
      "1    149263\n",
      "Name: count, dtype: int64\n",
      "is_duplicate\n",
      "0    63.080215\n",
      "1    36.919785\n",
      "Name: count, dtype: float64\n"
     ]
    },
    {
     "data": {
      "text/plain": [
       "<Axes: xlabel='is_duplicate'>"
      ]
     },
     "execution_count": 8,
     "metadata": {},
     "output_type": "execute_result"
    },
    {
     "data": {
      "image/png": "[encoded data removed]",
      "text/plain": [
       "<Figure size 640x480 with 1 Axes>"
      ]
     },
     "metadata": {},
     "output_type": "display_data"
    }
   ],
   "source": [
    "print(df['is_duplicate'].value_counts())\n",
    "print((df['is_duplicate'].value_counts()/df['is_duplicate'].count())*100)\n",
    "df['is_duplicate'].value_counts().plot(kind='bar')"
   ]
  },
  {
   "cell_type": "code",
   "execution_count": 9,
   "id": "7fa52fc9",
   "metadata": {
    "execution": {
     "iopub.execute_input": "2024-09-01T11:42:37.347189Z",
     "iopub.status.busy": "2024-09-01T11:42:37.345893Z",
     "iopub.status.idle": "2024-09-01T11:42:37.953825Z",
     "shell.execute_reply": "2024-09-01T11:42:37.952588Z"
    },
    "papermill": {
     "duration": 0.622127,
     "end_time": "2024-09-01T11:42:37.956854",
     "exception": false,
     "start_time": "2024-09-01T11:42:37.334727",
     "status": "completed"
    },
    "tags": []
   },
   "outputs": [
    {
     "name": "stdout",
     "output_type": "stream",
     "text": [
      "Number of unique questions 537933\n",
      "Number of question getting repeated 111780\n"
     ]
    }
   ],
   "source": [
    "qid = pd.Series(df['qid1'].tolist() + df['qid2'].tolist())\n",
    "print('Number of unique questions',np.unique(qid).shape[0])\n",
    "x = qid.value_counts()>1\n",
    "print('Number of question getting repeated',x[x].shape[0])"
   ]
  },
  {
   "cell_type": "code",
   "execution_count": 10,
   "id": "66151288",
   "metadata": {
    "execution": {
     "iopub.execute_input": "2024-09-01T11:42:37.978280Z",
     "iopub.status.busy": "2024-09-01T11:42:37.976983Z",
     "iopub.status.idle": "2024-09-01T11:42:38.986445Z",
     "shell.execute_reply": "2024-09-01T11:42:38.985121Z"
    },
    "papermill": {
     "duration": 1.02278,
     "end_time": "2024-09-01T11:42:38.988999",
     "exception": false,
     "start_time": "2024-09-01T11:42:37.966219",
     "status": "completed"
    },
    "tags": []
   },
   "outputs": [
    {
     "data": {
      "image/png": "[encoded data removed]",
      "text/plain": [
       "<Figure size 640x480 with 1 Axes>"
      ]
     },
     "metadata": {},
     "output_type": "display_data"
    }
   ],
   "source": [
    "#Repeated Question Histogram\n",
    "\n",
    "plt.hist(qid.value_counts().values,bins = 160)\n",
    "plt.yscale('log')\n",
    "plt.show()"
   ]
  },
  {
   "cell_type": "code",
   "execution_count": 11,
   "id": "be5ae403",
   "metadata": {
    "execution": {
     "iopub.execute_input": "2024-09-01T11:42:39.010911Z",
     "iopub.status.busy": "2024-09-01T11:42:39.010445Z",
     "iopub.status.idle": "2024-09-01T11:42:39.048471Z",
     "shell.execute_reply": "2024-09-01T11:42:39.047312Z"
    },
    "papermill": {
     "duration": 0.052753,
     "end_time": "2024-09-01T11:42:39.051603",
     "exception": false,
     "start_time": "2024-09-01T11:42:38.998850",
     "status": "completed"
    },
    "tags": []
   },
   "outputs": [],
   "source": [
    "new_df = df.sample(50000)"
   ]
  },
  {
   "cell_type": "code",
   "execution_count": 12,
   "id": "975f87ee",
   "metadata": {
    "execution": {
     "iopub.execute_input": "2024-09-01T11:42:39.073584Z",
     "iopub.status.busy": "2024-09-01T11:42:39.072766Z",
     "iopub.status.idle": "2024-09-01T11:42:39.116085Z",
     "shell.execute_reply": "2024-09-01T11:42:39.114909Z"
    },
    "papermill": {
     "duration": 0.057188,
     "end_time": "2024-09-01T11:42:39.118726",
     "exception": false,
     "start_time": "2024-09-01T11:42:39.061538",
     "status": "completed"
    },
    "tags": []
   },
   "outputs": [
    {
     "data": {
      "text/html": [
       "<div>\n",
       "<style scoped>\n",
       "    .dataframe tbody tr th:only-of-type {\n",
       "        vertical-align: middle;\n",
       "    }\n",
       "\n",
       "    .dataframe tbody tr th {\n",
       "        vertical-align: top;\n",
       "    }\n",
       "\n",
       "    .dataframe thead th {\n",
       "        text-align: right;\n",
       "    }\n",
       "</style>\n",
       "<table border=\"1\" class=\"dataframe\">\n",
       "  <thead>\n",
       "    <tr style=\"text-align: right;\">\n",
       "      <th></th>\n",
       "      <th>question1</th>\n",
       "      <th>question2</th>\n",
       "    </tr>\n",
       "  </thead>\n",
       "  <tbody>\n",
       "    <tr>\n",
       "      <th>148486</th>\n",
       "      <td>If [math]1\\circ4=5[/math] and [math]2\\circ5=12...</td>\n",
       "      <td>Which is correct: \"Math\" or \"Maths\"?</td>\n",
       "    </tr>\n",
       "    <tr>\n",
       "      <th>247382</th>\n",
       "      <td>Can a hermaphrodite impregnate itself? If so, ...</td>\n",
       "      <td>Can a hermaphrodite impregnate itself?</td>\n",
       "    </tr>\n",
       "    <tr>\n",
       "      <th>357489</th>\n",
       "      <td>Who created God n who created those who create...</td>\n",
       "      <td>If God has created everything then where did h...</td>\n",
       "    </tr>\n",
       "    <tr>\n",
       "      <th>4269</th>\n",
       "      <td>Should I go to IBS Hyderabad (ICFAI) for an MB...</td>\n",
       "      <td>Which institute is better, ISB or IBS in Hyder...</td>\n",
       "    </tr>\n",
       "    <tr>\n",
       "      <th>295602</th>\n",
       "      <td>What is the relationship like between Poland a...</td>\n",
       "      <td>What is the relationship like between Germany ...</td>\n",
       "    </tr>\n",
       "  </tbody>\n",
       "</table>\n",
       "</div>"
      ],
      "text/plain": [
       "                                                question1  \\\n",
       "148486  If [math]1\\circ4=5[/math] and [math]2\\circ5=12...   \n",
       "247382  Can a hermaphrodite impregnate itself? If so, ...   \n",
       "357489  Who created God n who created those who create...   \n",
       "4269    Should I go to IBS Hyderabad (ICFAI) for an MB...   \n",
       "295602  What is the relationship like between Poland a...   \n",
       "\n",
       "                                                question2  \n",
       "148486               Which is correct: \"Math\" or \"Maths\"?  \n",
       "247382             Can a hermaphrodite impregnate itself?  \n",
       "357489  If God has created everything then where did h...  \n",
       "4269    Which institute is better, ISB or IBS in Hyder...  \n",
       "295602  What is the relationship like between Germany ...  "
      ]
     },
     "execution_count": 12,
     "metadata": {},
     "output_type": "execute_result"
    }
   ],
   "source": [
    "ques_df = new_df[['question1','question2']]\n",
    "ques_df = ques_df.dropna(subset=['question1','question2'])\n",
    "ques_df.head()"
   ]
  },
  {
   "cell_type": "code",
   "execution_count": 13,
   "id": "6fc9f5d2",
   "metadata": {
    "execution": {
     "iopub.execute_input": "2024-09-01T11:42:39.139750Z",
     "iopub.status.busy": "2024-09-01T11:42:39.139378Z",
     "iopub.status.idle": "2024-09-01T11:42:42.501103Z",
     "shell.execute_reply": "2024-09-01T11:42:42.499804Z"
    },
    "papermill": {
     "duration": 3.375791,
     "end_time": "2024-09-01T11:42:42.504245",
     "exception": false,
     "start_time": "2024-09-01T11:42:39.128454",
     "status": "completed"
    },
    "tags": []
   },
   "outputs": [],
   "source": [
    "from sklearn.feature_extraction.text import CountVectorizer\n",
    "questions = list(ques_df['question1']) + list(ques_df['question2'])\n",
    "\n",
    "cv = CountVectorizer(max_features=3000)\n",
    "q1_arr,a2_arr = np.vsplit(cv.fit_transform(questions).toarray(),2)"
   ]
  },
  {
   "cell_type": "code",
   "execution_count": 14,
   "id": "fe7439f7",
   "metadata": {
    "execution": {
     "iopub.execute_input": "2024-09-01T11:42:42.526093Z",
     "iopub.status.busy": "2024-09-01T11:42:42.525602Z",
     "iopub.status.idle": "2024-09-01T11:42:48.219177Z",
     "shell.execute_reply": "2024-09-01T11:42:48.217990Z"
    },
    "papermill": {
     "duration": 5.707201,
     "end_time": "2024-09-01T11:42:48.221674",
     "exception": false,
     "start_time": "2024-09-01T11:42:42.514473",
     "status": "completed"
    },
    "tags": []
   },
   "outputs": [
    {
     "data": {
      "text/plain": [
       "(50000, 6000)"
      ]
     },
     "execution_count": 14,
     "metadata": {},
     "output_type": "execute_result"
    }
   ],
   "source": [
    "temp_df1 = pd.DataFrame(q1_arr,index= ques_df.index)\n",
    "temp_df2 = pd.DataFrame(a2_arr,index= ques_df.index)\n",
    "temp_df = pd.concat([temp_df1,temp_df2],axis = 1)\n",
    "temp_df.shape"
   ]
  },
  {
   "cell_type": "code",
   "execution_count": 15,
   "id": "faf8d0d4",
   "metadata": {
    "execution": {
     "iopub.execute_input": "2024-09-01T11:42:48.243850Z",
     "iopub.status.busy": "2024-09-01T11:42:48.243383Z",
     "iopub.status.idle": "2024-09-01T11:42:48.281163Z",
     "shell.execute_reply": "2024-09-01T11:42:48.279714Z"
    },
    "papermill": {
     "duration": 0.051967,
     "end_time": "2024-09-01T11:42:48.283848",
     "exception": false,
     "start_time": "2024-09-01T11:42:48.231881",
     "status": "completed"
    },
    "tags": []
   },
   "outputs": [
    {
     "data": {
      "text/html": [
       "<div>\n",
       "<style scoped>\n",
       "    .dataframe tbody tr th:only-of-type {\n",
       "        vertical-align: middle;\n",
       "    }\n",
       "\n",
       "    .dataframe tbody tr th {\n",
       "        vertical-align: top;\n",
       "    }\n",
       "\n",
       "    .dataframe thead th {\n",
       "        text-align: right;\n",
       "    }\n",
       "</style>\n",
       "<table border=\"1\" class=\"dataframe\">\n",
       "  <thead>\n",
       "    <tr style=\"text-align: right;\">\n",
       "      <th></th>\n",
       "      <th>0</th>\n",
       "      <th>1</th>\n",
       "      <th>2</th>\n",
       "      <th>3</th>\n",
       "      <th>4</th>\n",
       "      <th>5</th>\n",
       "      <th>6</th>\n",
       "      <th>7</th>\n",
       "      <th>8</th>\n",
       "      <th>9</th>\n",
       "      <th>...</th>\n",
       "      <th>2990</th>\n",
       "      <th>2991</th>\n",
       "      <th>2992</th>\n",
       "      <th>2993</th>\n",
       "      <th>2994</th>\n",
       "      <th>2995</th>\n",
       "      <th>2996</th>\n",
       "      <th>2997</th>\n",
       "      <th>2998</th>\n",
       "      <th>2999</th>\n",
       "    </tr>\n",
       "  </thead>\n",
       "  <tbody>\n",
       "    <tr>\n",
       "      <th>148486</th>\n",
       "      <td>0</td>\n",
       "      <td>0</td>\n",
       "      <td>0</td>\n",
       "      <td>0</td>\n",
       "      <td>0</td>\n",
       "      <td>0</td>\n",
       "      <td>0</td>\n",
       "      <td>1</td>\n",
       "      <td>0</td>\n",
       "      <td>0</td>\n",
       "      <td>...</td>\n",
       "      <td>0</td>\n",
       "      <td>0</td>\n",
       "      <td>0</td>\n",
       "      <td>0</td>\n",
       "      <td>0</td>\n",
       "      <td>0</td>\n",
       "      <td>0</td>\n",
       "      <td>0</td>\n",
       "      <td>0</td>\n",
       "      <td>0</td>\n",
       "    </tr>\n",
       "    <tr>\n",
       "      <th>247382</th>\n",
       "      <td>0</td>\n",
       "      <td>0</td>\n",
       "      <td>0</td>\n",
       "      <td>0</td>\n",
       "      <td>0</td>\n",
       "      <td>0</td>\n",
       "      <td>0</td>\n",
       "      <td>0</td>\n",
       "      <td>0</td>\n",
       "      <td>0</td>\n",
       "      <td>...</td>\n",
       "      <td>0</td>\n",
       "      <td>0</td>\n",
       "      <td>0</td>\n",
       "      <td>0</td>\n",
       "      <td>0</td>\n",
       "      <td>0</td>\n",
       "      <td>0</td>\n",
       "      <td>0</td>\n",
       "      <td>0</td>\n",
       "      <td>0</td>\n",
       "    </tr>\n",
       "    <tr>\n",
       "      <th>357489</th>\n",
       "      <td>0</td>\n",
       "      <td>0</td>\n",
       "      <td>0</td>\n",
       "      <td>0</td>\n",
       "      <td>0</td>\n",
       "      <td>0</td>\n",
       "      <td>0</td>\n",
       "      <td>0</td>\n",
       "      <td>0</td>\n",
       "      <td>0</td>\n",
       "      <td>...</td>\n",
       "      <td>0</td>\n",
       "      <td>0</td>\n",
       "      <td>0</td>\n",
       "      <td>0</td>\n",
       "      <td>0</td>\n",
       "      <td>0</td>\n",
       "      <td>0</td>\n",
       "      <td>0</td>\n",
       "      <td>0</td>\n",
       "      <td>0</td>\n",
       "    </tr>\n",
       "    <tr>\n",
       "      <th>4269</th>\n",
       "      <td>0</td>\n",
       "      <td>0</td>\n",
       "      <td>0</td>\n",
       "      <td>0</td>\n",
       "      <td>0</td>\n",
       "      <td>0</td>\n",
       "      <td>0</td>\n",
       "      <td>0</td>\n",
       "      <td>0</td>\n",
       "      <td>0</td>\n",
       "      <td>...</td>\n",
       "      <td>0</td>\n",
       "      <td>0</td>\n",
       "      <td>0</td>\n",
       "      <td>0</td>\n",
       "      <td>0</td>\n",
       "      <td>0</td>\n",
       "      <td>0</td>\n",
       "      <td>0</td>\n",
       "      <td>0</td>\n",
       "      <td>0</td>\n",
       "    </tr>\n",
       "    <tr>\n",
       "      <th>295602</th>\n",
       "      <td>0</td>\n",
       "      <td>0</td>\n",
       "      <td>0</td>\n",
       "      <td>0</td>\n",
       "      <td>0</td>\n",
       "      <td>0</td>\n",
       "      <td>0</td>\n",
       "      <td>0</td>\n",
       "      <td>0</td>\n",
       "      <td>0</td>\n",
       "      <td>...</td>\n",
       "      <td>0</td>\n",
       "      <td>0</td>\n",
       "      <td>0</td>\n",
       "      <td>0</td>\n",
       "      <td>0</td>\n",
       "      <td>0</td>\n",
       "      <td>0</td>\n",
       "      <td>0</td>\n",
       "      <td>0</td>\n",
       "      <td>0</td>\n",
       "    </tr>\n",
       "    <tr>\n",
       "      <th>...</th>\n",
       "      <td>...</td>\n",
       "      <td>...</td>\n",
       "      <td>...</td>\n",
       "      <td>...</td>\n",
       "      <td>...</td>\n",
       "      <td>...</td>\n",
       "      <td>...</td>\n",
       "      <td>...</td>\n",
       "      <td>...</td>\n",
       "      <td>...</td>\n",
       "      <td>...</td>\n",
       "      <td>...</td>\n",
       "      <td>...</td>\n",
       "      <td>...</td>\n",
       "      <td>...</td>\n",
       "      <td>...</td>\n",
       "      <td>...</td>\n",
       "      <td>...</td>\n",
       "      <td>...</td>\n",
       "      <td>...</td>\n",
       "      <td>...</td>\n",
       "    </tr>\n",
       "    <tr>\n",
       "      <th>17872</th>\n",
       "      <td>0</td>\n",
       "      <td>0</td>\n",
       "      <td>0</td>\n",
       "      <td>0</td>\n",
       "      <td>0</td>\n",
       "      <td>0</td>\n",
       "      <td>0</td>\n",
       "      <td>0</td>\n",
       "      <td>0</td>\n",
       "      <td>0</td>\n",
       "      <td>...</td>\n",
       "      <td>0</td>\n",
       "      <td>0</td>\n",
       "      <td>0</td>\n",
       "      <td>0</td>\n",
       "      <td>0</td>\n",
       "      <td>0</td>\n",
       "      <td>0</td>\n",
       "      <td>0</td>\n",
       "      <td>0</td>\n",
       "      <td>0</td>\n",
       "    </tr>\n",
       "    <tr>\n",
       "      <th>3816</th>\n",
       "      <td>0</td>\n",
       "      <td>0</td>\n",
       "      <td>0</td>\n",
       "      <td>0</td>\n",
       "      <td>0</td>\n",
       "      <td>0</td>\n",
       "      <td>0</td>\n",
       "      <td>0</td>\n",
       "      <td>0</td>\n",
       "      <td>0</td>\n",
       "      <td>...</td>\n",
       "      <td>0</td>\n",
       "      <td>0</td>\n",
       "      <td>0</td>\n",
       "      <td>0</td>\n",
       "      <td>0</td>\n",
       "      <td>0</td>\n",
       "      <td>0</td>\n",
       "      <td>0</td>\n",
       "      <td>0</td>\n",
       "      <td>0</td>\n",
       "    </tr>\n",
       "    <tr>\n",
       "      <th>282593</th>\n",
       "      <td>0</td>\n",
       "      <td>0</td>\n",
       "      <td>0</td>\n",
       "      <td>0</td>\n",
       "      <td>0</td>\n",
       "      <td>0</td>\n",
       "      <td>0</td>\n",
       "      <td>0</td>\n",
       "      <td>0</td>\n",
       "      <td>0</td>\n",
       "      <td>...</td>\n",
       "      <td>0</td>\n",
       "      <td>0</td>\n",
       "      <td>0</td>\n",
       "      <td>0</td>\n",
       "      <td>0</td>\n",
       "      <td>0</td>\n",
       "      <td>0</td>\n",
       "      <td>0</td>\n",
       "      <td>0</td>\n",
       "      <td>0</td>\n",
       "    </tr>\n",
       "    <tr>\n",
       "      <th>229505</th>\n",
       "      <td>0</td>\n",
       "      <td>0</td>\n",
       "      <td>0</td>\n",
       "      <td>0</td>\n",
       "      <td>0</td>\n",
       "      <td>0</td>\n",
       "      <td>0</td>\n",
       "      <td>0</td>\n",
       "      <td>0</td>\n",
       "      <td>0</td>\n",
       "      <td>...</td>\n",
       "      <td>0</td>\n",
       "      <td>0</td>\n",
       "      <td>0</td>\n",
       "      <td>0</td>\n",
       "      <td>0</td>\n",
       "      <td>0</td>\n",
       "      <td>0</td>\n",
       "      <td>0</td>\n",
       "      <td>0</td>\n",
       "      <td>0</td>\n",
       "    </tr>\n",
       "    <tr>\n",
       "      <th>207003</th>\n",
       "      <td>0</td>\n",
       "      <td>0</td>\n",
       "      <td>0</td>\n",
       "      <td>0</td>\n",
       "      <td>0</td>\n",
       "      <td>0</td>\n",
       "      <td>0</td>\n",
       "      <td>0</td>\n",
       "      <td>0</td>\n",
       "      <td>0</td>\n",
       "      <td>...</td>\n",
       "      <td>0</td>\n",
       "      <td>0</td>\n",
       "      <td>0</td>\n",
       "      <td>0</td>\n",
       "      <td>0</td>\n",
       "      <td>0</td>\n",
       "      <td>0</td>\n",
       "      <td>0</td>\n",
       "      <td>0</td>\n",
       "      <td>0</td>\n",
       "    </tr>\n",
       "  </tbody>\n",
       "</table>\n",
       "<p>50000 rows × 6000 columns</p>\n",
       "</div>"
      ],
      "text/plain": [
       "        0     1     2     3     4     5     6     7     8     9     ...  2990  \\\n",
       "148486     0     0     0     0     0     0     0     1     0     0  ...     0   \n",
       "247382     0     0     0     0     0     0     0     0     0     0  ...     0   \n",
       "357489     0     0     0     0     0     0     0     0     0     0  ...     0   \n",
       "4269       0     0     0     0     0     0     0     0     0     0  ...     0   \n",
       "295602     0     0     0     0     0     0     0     0     0     0  ...     0   \n",
       "...      ...   ...   ...   ...   ...   ...   ...   ...   ...   ...  ...   ...   \n",
       "17872      0     0     0     0     0     0     0     0     0     0  ...     0   \n",
       "3816       0     0     0     0     0     0     0     0     0     0  ...     0   \n",
       "282593     0     0     0     0     0     0     0     0     0     0  ...     0   \n",
       "229505     0     0     0     0     0     0     0     0     0     0  ...     0   \n",
       "207003     0     0     0     0     0     0     0     0     0     0  ...     0   \n",
       "\n",
       "        2991  2992  2993  2994  2995  2996  2997  2998  2999  \n",
       "148486     0     0     0     0     0     0     0     0     0  \n",
       "247382     0     0     0     0     0     0     0     0     0  \n",
       "357489     0     0     0     0     0     0     0     0     0  \n",
       "4269       0     0     0     0     0     0     0     0     0  \n",
       "295602     0     0     0     0     0     0     0     0     0  \n",
       "...      ...   ...   ...   ...   ...   ...   ...   ...   ...  \n",
       "17872      0     0     0     0     0     0     0     0     0  \n",
       "3816       0     0     0     0     0     0     0     0     0  \n",
       "282593     0     0     0     0     0     0     0     0     0  \n",
       "229505     0     0     0     0     0     0     0     0     0  \n",
       "207003     0     0     0     0     0     0     0     0     0  \n",
       "\n",
       "[50000 rows x 6000 columns]"
      ]
     },
     "execution_count": 15,
     "metadata": {},
     "output_type": "execute_result"
    }
   ],
   "source": [
    "temp_df"
   ]
  },
  {
   "cell_type": "code",
   "execution_count": 16,
   "id": "69e9ab34",
   "metadata": {
    "execution": {
     "iopub.execute_input": "2024-09-01T11:42:48.307155Z",
     "iopub.status.busy": "2024-09-01T11:42:48.306129Z",
     "iopub.status.idle": "2024-09-01T11:42:48.319065Z",
     "shell.execute_reply": "2024-09-01T11:42:48.317977Z"
    },
    "papermill": {
     "duration": 0.027254,
     "end_time": "2024-09-01T11:42:48.321728",
     "exception": false,
     "start_time": "2024-09-01T11:42:48.294474",
     "status": "completed"
    },
    "tags": []
   },
   "outputs": [],
   "source": [
    "temp_df['is_duplicate'] = new_df['is_duplicate']"
   ]
  },
  {
   "cell_type": "code",
   "execution_count": 17,
   "id": "8cb64703",
   "metadata": {
    "execution": {
     "iopub.execute_input": "2024-09-01T11:42:48.345816Z",
     "iopub.status.busy": "2024-09-01T11:42:48.344679Z",
     "iopub.status.idle": "2024-09-01T11:42:48.386462Z",
     "shell.execute_reply": "2024-09-01T11:42:48.385280Z"
    },
    "papermill": {
     "duration": 0.056466,
     "end_time": "2024-09-01T11:42:48.389205",
     "exception": false,
     "start_time": "2024-09-01T11:42:48.332739",
     "status": "completed"
    },
    "tags": []
   },
   "outputs": [
    {
     "data": {
      "text/html": [
       "<div>\n",
       "<style scoped>\n",
       "    .dataframe tbody tr th:only-of-type {\n",
       "        vertical-align: middle;\n",
       "    }\n",
       "\n",
       "    .dataframe tbody tr th {\n",
       "        vertical-align: top;\n",
       "    }\n",
       "\n",
       "    .dataframe thead th {\n",
       "        text-align: right;\n",
       "    }\n",
       "</style>\n",
       "<table border=\"1\" class=\"dataframe\">\n",
       "  <thead>\n",
       "    <tr style=\"text-align: right;\">\n",
       "      <th></th>\n",
       "      <th>0</th>\n",
       "      <th>1</th>\n",
       "      <th>2</th>\n",
       "      <th>3</th>\n",
       "      <th>4</th>\n",
       "      <th>5</th>\n",
       "      <th>6</th>\n",
       "      <th>7</th>\n",
       "      <th>8</th>\n",
       "      <th>9</th>\n",
       "      <th>...</th>\n",
       "      <th>2991</th>\n",
       "      <th>2992</th>\n",
       "      <th>2993</th>\n",
       "      <th>2994</th>\n",
       "      <th>2995</th>\n",
       "      <th>2996</th>\n",
       "      <th>2997</th>\n",
       "      <th>2998</th>\n",
       "      <th>2999</th>\n",
       "      <th>is_duplicate</th>\n",
       "    </tr>\n",
       "  </thead>\n",
       "  <tbody>\n",
       "    <tr>\n",
       "      <th>148486</th>\n",
       "      <td>0</td>\n",
       "      <td>0</td>\n",
       "      <td>0</td>\n",
       "      <td>0</td>\n",
       "      <td>0</td>\n",
       "      <td>0</td>\n",
       "      <td>0</td>\n",
       "      <td>1</td>\n",
       "      <td>0</td>\n",
       "      <td>0</td>\n",
       "      <td>...</td>\n",
       "      <td>0</td>\n",
       "      <td>0</td>\n",
       "      <td>0</td>\n",
       "      <td>0</td>\n",
       "      <td>0</td>\n",
       "      <td>0</td>\n",
       "      <td>0</td>\n",
       "      <td>0</td>\n",
       "      <td>0</td>\n",
       "      <td>0</td>\n",
       "    </tr>\n",
       "    <tr>\n",
       "      <th>247382</th>\n",
       "      <td>0</td>\n",
       "      <td>0</td>\n",
       "      <td>0</td>\n",
       "      <td>0</td>\n",
       "      <td>0</td>\n",
       "      <td>0</td>\n",
       "      <td>0</td>\n",
       "      <td>0</td>\n",
       "      <td>0</td>\n",
       "      <td>0</td>\n",
       "      <td>...</td>\n",
       "      <td>0</td>\n",
       "      <td>0</td>\n",
       "      <td>0</td>\n",
       "      <td>0</td>\n",
       "      <td>0</td>\n",
       "      <td>0</td>\n",
       "      <td>0</td>\n",
       "      <td>0</td>\n",
       "      <td>0</td>\n",
       "      <td>1</td>\n",
       "    </tr>\n",
       "    <tr>\n",
       "      <th>357489</th>\n",
       "      <td>0</td>\n",
       "      <td>0</td>\n",
       "      <td>0</td>\n",
       "      <td>0</td>\n",
       "      <td>0</td>\n",
       "      <td>0</td>\n",
       "      <td>0</td>\n",
       "      <td>0</td>\n",
       "      <td>0</td>\n",
       "      <td>0</td>\n",
       "      <td>...</td>\n",
       "      <td>0</td>\n",
       "      <td>0</td>\n",
       "      <td>0</td>\n",
       "      <td>0</td>\n",
       "      <td>0</td>\n",
       "      <td>0</td>\n",
       "      <td>0</td>\n",
       "      <td>0</td>\n",
       "      <td>0</td>\n",
       "      <td>1</td>\n",
       "    </tr>\n",
       "    <tr>\n",
       "      <th>4269</th>\n",
       "      <td>0</td>\n",
       "      <td>0</td>\n",
       "      <td>0</td>\n",
       "      <td>0</td>\n",
       "      <td>0</td>\n",
       "      <td>0</td>\n",
       "      <td>0</td>\n",
       "      <td>0</td>\n",
       "      <td>0</td>\n",
       "      <td>0</td>\n",
       "      <td>...</td>\n",
       "      <td>0</td>\n",
       "      <td>0</td>\n",
       "      <td>0</td>\n",
       "      <td>0</td>\n",
       "      <td>0</td>\n",
       "      <td>0</td>\n",
       "      <td>0</td>\n",
       "      <td>0</td>\n",
       "      <td>0</td>\n",
       "      <td>0</td>\n",
       "    </tr>\n",
       "    <tr>\n",
       "      <th>295602</th>\n",
       "      <td>0</td>\n",
       "      <td>0</td>\n",
       "      <td>0</td>\n",
       "      <td>0</td>\n",
       "      <td>0</td>\n",
       "      <td>0</td>\n",
       "      <td>0</td>\n",
       "      <td>0</td>\n",
       "      <td>0</td>\n",
       "      <td>0</td>\n",
       "      <td>...</td>\n",
       "      <td>0</td>\n",
       "      <td>0</td>\n",
       "      <td>0</td>\n",
       "      <td>0</td>\n",
       "      <td>0</td>\n",
       "      <td>0</td>\n",
       "      <td>0</td>\n",
       "      <td>0</td>\n",
       "      <td>0</td>\n",
       "      <td>0</td>\n",
       "    </tr>\n",
       "  </tbody>\n",
       "</table>\n",
       "<p>5 rows × 6001 columns</p>\n",
       "</div>"
      ],
      "text/plain": [
       "        0  1  2  3  4  5  6  7  8  9  ...  2991  2992  2993  2994  2995  2996  \\\n",
       "148486  0  0  0  0  0  0  0  1  0  0  ...     0     0     0     0     0     0   \n",
       "247382  0  0  0  0  0  0  0  0  0  0  ...     0     0     0     0     0     0   \n",
       "357489  0  0  0  0  0  0  0  0  0  0  ...     0     0     0     0     0     0   \n",
       "4269    0  0  0  0  0  0  0  0  0  0  ...     0     0     0     0     0     0   \n",
       "295602  0  0  0  0  0  0  0  0  0  0  ...     0     0     0     0     0     0   \n",
       "\n",
       "        2997  2998  2999  is_duplicate  \n",
       "148486     0     0     0             0  \n",
       "247382     0     0     0             1  \n",
       "357489     0     0     0             1  \n",
       "4269       0     0     0             0  \n",
       "295602     0     0     0             0  \n",
       "\n",
       "[5 rows x 6001 columns]"
      ]
     },
     "execution_count": 17,
     "metadata": {},
     "output_type": "execute_result"
    }
   ],
   "source": [
    "temp_df.head()"
   ]
  },
  {
   "cell_type": "code",
   "execution_count": 18,
   "id": "39b142d7",
   "metadata": {
    "execution": {
     "iopub.execute_input": "2024-09-01T11:42:48.414032Z",
     "iopub.status.busy": "2024-09-01T11:42:48.412971Z",
     "iopub.status.idle": "2024-09-01T11:42:48.420877Z",
     "shell.execute_reply": "2024-09-01T11:42:48.419709Z"
    },
    "papermill": {
     "duration": 0.023203,
     "end_time": "2024-09-01T11:42:48.423602",
     "exception": false,
     "start_time": "2024-09-01T11:42:48.400399",
     "status": "completed"
    },
    "tags": []
   },
   "outputs": [
    {
     "data": {
      "text/plain": [
       "(50000, 6001)"
      ]
     },
     "execution_count": 18,
     "metadata": {},
     "output_type": "execute_result"
    }
   ],
   "source": [
    "temp_df.shape"
   ]
  },
  {
   "cell_type": "code",
   "execution_count": 19,
   "id": "0c81c31c",
   "metadata": {
    "execution": {
     "iopub.execute_input": "2024-09-01T11:42:48.448631Z",
     "iopub.status.busy": "2024-09-01T11:42:48.448164Z",
     "iopub.status.idle": "2024-09-01T11:42:56.266969Z",
     "shell.execute_reply": "2024-09-01T11:42:56.265696Z"
    },
    "papermill": {
     "duration": 7.834555,
     "end_time": "2024-09-01T11:42:56.270039",
     "exception": false,
     "start_time": "2024-09-01T11:42:48.435484",
     "status": "completed"
    },
    "tags": []
   },
   "outputs": [],
   "source": [
    "from sklearn.model_selection import train_test_split\n",
    "X_train,X_test,y_train,y_test = train_test_split(temp_df.iloc[:,0:-1].values,temp_df.iloc[:,-1].values,test_size=0.2,random_state=1)"
   ]
  },
  {
   "cell_type": "code",
   "execution_count": 20,
   "id": "1644f115",
   "metadata": {
    "execution": {
     "iopub.execute_input": "2024-09-01T11:42:56.295067Z",
     "iopub.status.busy": "2024-09-01T11:42:56.294579Z",
     "iopub.status.idle": "2024-09-01T11:46:27.793489Z",
     "shell.execute_reply": "2024-09-01T11:46:27.791791Z"
    },
    "papermill": {
     "duration": 211.52539,
     "end_time": "2024-09-01T11:46:27.806887",
     "exception": false,
     "start_time": "2024-09-01T11:42:56.281497",
     "status": "completed"
    },
    "tags": []
   },
   "outputs": [
    {
     "data": {
      "text/plain": [
       "0.7501"
      ]
     },
     "execution_count": 20,
     "metadata": {},
     "output_type": "execute_result"
    }
   ],
   "source": [
    "from sklearn.ensemble import RandomForestClassifier\n",
    "from sklearn.metrics import accuracy_score\n",
    "rf = RandomForestClassifier()\n",
    "rf.fit(X_train,y_train)\n",
    "y_pred = rf.predict(X_test)\n",
    "accuracy_score(y_test,y_pred)"
   ]
  },
  {
   "cell_type": "code",
   "execution_count": 21,
   "id": "0f3fbd81",
   "metadata": {
    "execution": {
     "iopub.execute_input": "2024-09-01T11:46:27.830658Z",
     "iopub.status.busy": "2024-09-01T11:46:27.830195Z",
     "iopub.status.idle": "2024-09-01T11:47:08.015258Z",
     "shell.execute_reply": "2024-09-01T11:47:08.014028Z"
    },
    "papermill": {
     "duration": 40.20383,
     "end_time": "2024-09-01T11:47:08.021524",
     "exception": false,
     "start_time": "2024-09-01T11:46:27.817694",
     "status": "completed"
    },
    "tags": []
   },
   "outputs": [
    {
     "data": {
      "text/plain": [
       "0.7306"
      ]
     },
     "execution_count": 21,
     "metadata": {},
     "output_type": "execute_result"
    }
   ],
   "source": [
    "from xgboost import XGBClassifier\n",
    "xgb = XGBClassifier()\n",
    "xgb.fit(X_train,y_train)\n",
    "y_pred = xgb.predict(X_test)\n",
    "accuracy_score(y_test,y_pred)"
   ]
  },
  {
   "cell_type": "code",
   "execution_count": null,
   "id": "69362ac1",
   "metadata": {
    "papermill": {
     "duration": 0.011469,
     "end_time": "2024-09-01T11:47:08.044202",
     "exception": false,
     "start_time": "2024-09-01T11:47:08.032733",
     "status": "completed"
    },
    "tags": []
   },
   "outputs": [],
   "source": []
  }
 ],
 "metadata": {
  "kaggle": {
   "accelerator": "none",
   "dataSources": [
    {
     "databundleVersionId": 323734,
     "sourceId": 6277,
     "sourceType": "competition"
    },
    {
     "databundleVersionId": 290346,
     "sourceId": 10737,
     "sourceType": "competition"
    }
   ],
   "dockerImageVersionId": 30761,
   "isGpuEnabled": false,
   "isInternetEnabled": true,
   "language": "python",
   "sourceType": "notebook"
  },
  "kernelspec": {
   "display_name": "Python 3",
   "language": "python",
   "name": "python3"
  },
  "language_info": {
   "codemirror_mode": {
    "name": "ipython",
    "version": 3
   },
   "file_extension": ".py",
   "mimetype": "text/x-python",
   "name": "python",
   "nbconvert_exporter": "python",
   "pygments_lexer": "ipython3",
   "version": "3.10.14"
  },
  "papermill": {
   "default_parameters": {},
   "duration": 281.224648,
   "end_time": "2024-09-01T11:47:08.879567",
   "environment_variables": {},
   "exception": null,
   "input_path": "__notebook__.ipynb",
   "output_path": "__notebook__.ipynb",
   "parameters": {},
   "start_time": "2024-09-01T11:42:27.654919",
   "version": "2.6.0"
  }
 },
 "nbformat": 4,
 "nbformat_minor": 5
}
